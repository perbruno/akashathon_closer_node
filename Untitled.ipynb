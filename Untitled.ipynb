{
 "cells": [
  {
   "cell_type": "code",
   "execution_count": 7,
   "id": "0ea0cd4c-e2ed-4295-ae9f-74ad47d66245",
   "metadata": {},
   "outputs": [],
   "source": [
    "\n",
    "import numpy as np \n",
    "import polars as pl\n",
    "from sklearn import datasets, linear_model\n",
    "from sklearn.metrics import mean_squared_error, r2_score, root_mean_squared_error\n",
    "from datetime import datetime"
   ]
  },
  {
   "cell_type": "code",
   "execution_count": 2,
   "id": "5cee0dbf-3611-4133-8457-443def0a1710",
   "metadata": {},
   "outputs": [],
   "source": [
    "df_csv = pl.scan_csv(\"data/resource_usage_data.csv\")"
   ]
  },
  {
   "cell_type": "code",
   "execution_count": 3,
   "id": "2fcd8199-d644-4247-a0db-ee57c38ddbc3",
   "metadata": {},
   "outputs": [],
   "source": [
    "lim_df = df_csv.select(pl.col('Timestamp').head(10)).collect()['Timestamp'].str.to_datetime()\n",
    "first, last = lim_df[0], lim_df[-1]\n",
    "time_diff = (last-first)/(lim_df.len()-1)"
   ]
  },
  {
   "cell_type": "code",
   "execution_count": 4,
   "id": "e4db432a",
   "metadata": {},
   "outputs": [],
   "source": [
    "df3 = df_csv.filter(\n",
    "    (pl.col('Status')!='Normal') \n",
    "    & (pl.col('RAM') > 0.8) \n",
    "    | (pl.col('GPU') > 0.8) \n",
    "    | (pl.col('CPU') > 0.8)\n",
    "    ).collect()\n",
    "df3 = df3.with_columns(df3['Timestamp'].str.to_datetime())"
   ]
  },
  {
   "cell_type": "code",
   "execution_count": 5,
   "id": "822996b8",
   "metadata": {},
   "outputs": [],
   "source": [
    "dff = df3.with_columns(\n",
    "    (pl.col('Timestamp')+time_diff).alias('end_time')\n",
    "    ).select(['Timestamp','end_time'])"
   ]
  },
  {
   "cell_type": "code",
   "execution_count": 6,
   "id": "235f387b",
   "metadata": {},
   "outputs": [],
   "source": [
    "dff_y = list(map(datetime.timestamp,dff['Timestamp'].to_list()))\n",
    "sz = int(round(0.8*dff.height,0))"
   ]
  },
  {
   "cell_type": "code",
   "execution_count": 7,
   "id": "02021da3",
   "metadata": {},
   "outputs": [],
   "source": [
    "\n",
    "\n",
    "# Split the data into training/testing sets\n",
    "dff_y_train = [ [int(x)] for x in dff_y[:sz]]\n",
    "dff_y_test = [ [int(x)] for x in dff_y[sz:]]\n",
    "\n",
    "# Split the targets into training/testing sets\n",
    "dff_x_train = [ [int(x)] for x in np.arange(dff.height)[:sz]]\n",
    "dff_x_test = [ [int(x)] for x in np.arange(dff.height)[sz:]]\n",
    "\n",
    "# Create linear regression object\n",
    "regr = linear_model.LinearRegression()\n"
   ]
  },
  {
   "cell_type": "code",
   "execution_count": 8,
   "id": "a28be5f3",
   "metadata": {},
   "outputs": [
    {
     "name": "stdout",
     "output_type": "stream",
     "text": [
      "Coefficients: \n",
      " [[489.61448919]]\n",
      "Mean squared error: 28115.97\n",
      "Coefficient of determination: 0.99\n"
     ]
    }
   ],
   "source": [
    "dff\n",
    "# Train the model using the training sets\n",
    "regr.fit(dff_x_train, dff_y_train)\n",
    "\n",
    "# Make predictions using the testing set\n",
    "dff_y_pred = regr.predict(dff_x_test)\n",
    "\n",
    "# The coefficients\n",
    "print(\"Coefficients: \\n\", regr.coef_)\n",
    "# The mean squared error\n",
    "print(\"Mean squared error: %.2f\" % root_mean_squared_error(dff_y_test, dff_y_pred))\n",
    "# The coefficient of determination: 1 is perfect prediction\n",
    "print(\"Coefficient of determination: %.2f\" % r2_score(dff_y_test, dff_y_pred))"
   ]
  },
  {
   "cell_type": "code",
   "execution_count": 27,
   "id": "9f60710b",
   "metadata": {},
   "outputs": [
    {
     "data": {
      "text/plain": [
       "array([[1.71085765e+09]])"
      ]
     },
     "execution_count": 27,
     "metadata": {},
     "output_type": "execute_result"
    }
   ],
   "source": [
    "regr.predict([[100]])"
   ]
  },
  {
   "cell_type": "code",
   "execution_count": 24,
   "id": "8a8e7ee4",
   "metadata": {},
   "outputs": [
    {
     "data": {
      "text/plain": [
       "False"
      ]
     },
     "execution_count": 24,
     "metadata": {},
     "output_type": "execute_result"
    }
   ],
   "source": [
    "from datetime import timedelta\n",
    "\n",
    "regr.intercept_[0]\n",
    "\n",
    "regr.coef_[0][0]\n",
    "print(datetime.fromtimestamp(regr.intercept_[0]+regr.coef_[0][0]))\n",
    "\n",
    "datetime.fromtimestamp(regr.intercept_[0]+regr.coef_[0][0]) < datetime.fromtimestamp(regr.intercept_[0]) +time_diff"
   ]
  },
  {
   "cell_type": "code",
   "execution_count": null,
   "id": "d07aa567",
   "metadata": {},
   "outputs": [],
   "source": [
    "user = pl.scan_csv('data/users_logs_*.csv')\n"
   ]
  },
  {
   "cell_type": "code",
   "execution_count": null,
   "id": "cb74a93b",
   "metadata": {},
   "outputs": [],
   "source": [
    "most_users = user.group_by('IP').len().collect()\n",
    "most_users"
   ]
  },
  {
   "cell_type": "code",
   "execution_count": 17,
   "id": "63a8131f",
   "metadata": {},
   "outputs": [],
   "source": [
    "import requests\n",
    "r = requests.get('https://api.cloudmos.io/v1/providers')"
   ]
  },
  {
   "cell_type": "code",
   "execution_count": 30,
   "id": "b8153ea5",
   "metadata": {},
   "outputs": [],
   "source": [
    "tmp = []\n",
    "for a in r.json():\n",
    "    if a.get('isOnline') and a.get('isAudited') and a.get('uptime30d')>0.97 and a.get('activeStats').get('cpu') > cpu*1000 and a.get('activeStats').get('gpu') > gpu*1000 and a.get('activeStats').get('memory') > cpu*1000000000:\n",
    "        tmp.append({\n",
    "\"id\":a[\"owner\"][-8:],\n",
    "\"latitude\":a['ipLat'],\n",
    "\"longitude\":a['ipLon'],\n",
    "\"region\":a['ipRegion'],\n",
    "\"country\":a['ipCountry'],\n",
    "\"totalCpu\":a['activeStats']['cpu']/1000,\n",
    "\"totalGpu\":a['activeStats']['gpu']/1000,\n",
    "\"totalRam\":a['activeStats']['memory']/(1000*1000*1000)\n",
    "})\n",
    "\n",
    "dd = pl.DataFrame(tmp)\n",
    "\n"
   ]
  },
  {
   "cell_type": "code",
   "execution_count": 31,
   "id": "7f2d4651",
   "metadata": {},
   "outputs": [
    {
     "data": {
      "text/html": [
       "<div><style>\n",
       ".dataframe > thead > tr,\n",
       ".dataframe > tbody > tr {\n",
       "  text-align: right;\n",
       "  white-space: pre-wrap;\n",
       "}\n",
       "</style>\n",
       "<small>shape: (5, 8)</small><table border=\"1\" class=\"dataframe\"><thead><tr><th>id</th><th>latitude</th><th>longitude</th><th>region</th><th>country</th><th>totalCpu</th><th>totalGpu</th><th>totalRam</th></tr><tr><td>str</td><td>str</td><td>str</td><td>str</td><td>str</td><td>f64</td><td>f64</td><td>f64</td></tr></thead><tbody><tr><td>&quot;ajvqw6y0&quot;</td><td>&quot;60.1797&quot;</td><td>&quot;24.9344&quot;</td><td>&quot;Uusimaa&quot;</td><td>&quot;Finland&quot;</td><td>5.5</td><td>0.0</td><td>4.55082</td></tr><tr><td>&quot;8mgwn28e&quot;</td><td>&quot;47.4016&quot;</td><td>&quot;8.5261&quot;</td><td>&quot;Zurich&quot;</td><td>&quot;Switzerland&quot;</td><td>58.3</td><td>0.0</td><td>57.889101</td></tr><tr><td>&quot;c04eruqa&quot;</td><td>&quot;51.9981&quot;</td><td>&quot;4.198&quot;</td><td>&quot;South Holland&quot;</td><td>&quot;The Netherlands&quot;</td><td>0.0</td><td>0.0</td><td>0.0</td></tr><tr><td>&quot;3cy2rjd0&quot;</td><td>&quot;51.9981&quot;</td><td>&quot;4.198&quot;</td><td>&quot;South Holland&quot;</td><td>&quot;The Netherlands&quot;</td><td>0.0</td><td>0.0</td><td>0.0</td></tr><tr><td>&quot;z8qsh68a&quot;</td><td>&quot;26.348&quot;</td><td>&quot;-80.1498&quot;</td><td>&quot;Florida&quot;</td><td>&quot;United States&quot;</td><td>40.2</td><td>0.0</td><td>70.760833</td></tr></tbody></table></div>"
      ],
      "text/plain": [
       "shape: (5, 8)\n",
       "┌──────────┬──────────┬───────────┬─────────┬─────────────────┬──────────┬──────────┬───────────┐\n",
       "│ id       ┆ latitude ┆ longitude ┆ region  ┆ country         ┆ totalCpu ┆ totalGpu ┆ totalRam  │\n",
       "│ ---      ┆ ---      ┆ ---       ┆ ---     ┆ ---             ┆ ---      ┆ ---      ┆ ---       │\n",
       "│ str      ┆ str      ┆ str       ┆ str     ┆ str             ┆ f64      ┆ f64      ┆ f64       │\n",
       "╞══════════╪══════════╪═══════════╪═════════╪═════════════════╪══════════╪══════════╪═══════════╡\n",
       "│ ajvqw6y0 ┆ 60.1797  ┆ 24.9344   ┆ Uusimaa ┆ Finland         ┆ 5.5      ┆ 0.0      ┆ 4.55082   │\n",
       "│ 8mgwn28e ┆ 47.4016  ┆ 8.5261    ┆ Zurich  ┆ Switzerland     ┆ 58.3     ┆ 0.0      ┆ 57.889101 │\n",
       "│ c04eruqa ┆ 51.9981  ┆ 4.198     ┆ South   ┆ The Netherlands ┆ 0.0      ┆ 0.0      ┆ 0.0       │\n",
       "│          ┆          ┆           ┆ Holland ┆                 ┆          ┆          ┆           │\n",
       "│ 3cy2rjd0 ┆ 51.9981  ┆ 4.198     ┆ South   ┆ The Netherlands ┆ 0.0      ┆ 0.0      ┆ 0.0       │\n",
       "│          ┆          ┆           ┆ Holland ┆                 ┆          ┆          ┆           │\n",
       "│ z8qsh68a ┆ 26.348   ┆ -80.1498  ┆ Florida ┆ United States   ┆ 40.2     ┆ 0.0      ┆ 70.760833 │\n",
       "└──────────┴──────────┴───────────┴─────────┴─────────────────┴──────────┴──────────┴───────────┘"
      ]
     },
     "execution_count": 31,
     "metadata": {},
     "output_type": "execute_result"
    }
   ],
   "source": [
    "dd.head()"
   ]
  },
  {
   "cell_type": "code",
   "execution_count": null,
   "id": "5eb60aad",
   "metadata": {},
   "outputs": [],
   "source": []
  }
 ],
 "metadata": {
  "kernelspec": {
   "display_name": "Python 3 (ipykernel)",
   "language": "python",
   "name": "python3"
  },
  "language_info": {
   "codemirror_mode": {
    "name": "ipython",
    "version": 3
   },
   "file_extension": ".py",
   "mimetype": "text/x-python",
   "name": "python",
   "nbconvert_exporter": "python",
   "pygments_lexer": "ipython3",
   "version": "3.11.8"
  }
 },
 "nbformat": 4,
 "nbformat_minor": 5
}
